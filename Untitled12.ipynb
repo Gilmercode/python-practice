{
 "cells": [
  {
   "cell_type": "code",
   "execution_count": 21,
   "id": "918fef02-0122-4bfb-b991-8fcbe0fe0430",
   "metadata": {},
   "outputs": [],
   "source": [
    "def filter_even_numbers(numbers):\n",
    "    result = []\n",
    "    for num in numbers:\n",
    "        if num % 2 == 0:\n",
    "            result.append(num)\n",
    "    return result "
   ]
  },
  {
   "cell_type": "code",
   "execution_count": 23,
   "id": "714189fc-d4b7-417b-8dd3-b991b7e5ae1a",
   "metadata": {},
   "outputs": [
    {
     "name": "stdout",
     "output_type": "stream",
     "text": [
      "[2, 4, 6, 8]\n"
     ]
    }
   ],
   "source": [
    "print(filter_even_numbers([1, 2, 3, 4, 5, 6, 7, 8]))"
   ]
  },
  {
   "cell_type": "code",
   "execution_count": null,
   "id": "2cec1536-3d71-47d0-94b7-7f25ebb74275",
   "metadata": {},
   "outputs": [],
   "source": []
  }
 ],
 "metadata": {
  "kernelspec": {
   "display_name": "Python [conda env:base] *",
   "language": "python",
   "name": "conda-base-py"
  },
  "language_info": {
   "codemirror_mode": {
    "name": "ipython",
    "version": 3
   },
   "file_extension": ".py",
   "mimetype": "text/x-python",
   "name": "python",
   "nbconvert_exporter": "python",
   "pygments_lexer": "ipython3",
   "version": "3.12.7"
  }
 },
 "nbformat": 4,
 "nbformat_minor": 5
}
